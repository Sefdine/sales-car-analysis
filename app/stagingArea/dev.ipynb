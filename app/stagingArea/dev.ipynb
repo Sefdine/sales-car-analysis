{
 "cells": [
  {
   "cell_type": "code",
   "execution_count": 2,
   "metadata": {},
   "outputs": [],
   "source": [
    "# Import necessary libraries and load data\n",
    "import pandas as pd\n",
    "\n",
    "us_cars_df = pd.read_csv(\"../data/us_cars.csv\")"
   ]
  },
  {
   "cell_type": "code",
   "execution_count": 3,
   "metadata": {},
   "outputs": [],
   "source": [
    "columns_to_drop = [' Genmodel_ID', 'Wheelbase', 'Annual_Tax', 'Wheelbase', 'Top_speed', 'Engine_power']\n",
    "us_cars_df.drop(columns=columns_to_drop, inplace=True)"
   ]
  },
  {
   "cell_type": "code",
   "execution_count": 4,
   "metadata": {},
   "outputs": [
    {
     "data": {
      "text/plain": [
       "array(['Saloon', 'Convertible', 'SUV', 'Estate', 'Coupe', nan,\n",
       "       'Hatchback', 'MPV', 'Combi Van', 'Panel Van', 'Minibus',\n",
       "       'Window Van', 'Pickup', 'Manual', 'Car Derived Van', 'Tipper',\n",
       "       'Camper', 'Chassis Cab', 'Limousine'], dtype=object)"
      ]
     },
     "execution_count": 4,
     "metadata": {},
     "output_type": "execute_result"
    }
   ],
   "source": [
    "us_cars_df['Bodytype'].unique()"
   ]
  },
  {
   "cell_type": "code",
   "execution_count": 5,
   "metadata": {},
   "outputs": [],
   "source": [
    "mapper = {\n",
    "    ' Genmodel': 'Model',\n",
    "    'Runned_Miles': 'Miles',\n",
    "    'Seat_num': 'Seatings',\n",
    "    'Door_num': 'Doors',\n",
    "    'Engin_size': 'Engine_size'\n",
    "}\n",
    "us_cars_df.rename(columns=mapper, inplace=True)\n",
    "us_cars_df['Stat'] = \"used\""
   ]
  },
  {
   "cell_type": "code",
   "execution_count": 6,
   "metadata": {},
   "outputs": [],
   "source": [
    "# Generate id for us_cars_df\n",
    "import uuid\n",
    "\n",
    "us_cars_df['ID'] = us_cars_df['Adv_ID'].apply(lambda x: str(uuid.uuid4()))"
   ]
  },
  {
   "cell_type": "markdown",
   "metadata": {},
   "source": [
    "## Marketcheck data"
   ]
  },
  {
   "cell_type": "code",
   "execution_count": 7,
   "metadata": {},
   "outputs": [],
   "source": [
    "marketcheck_df = pd.read_json('../data/marketcheck.json')"
   ]
  },
  {
   "cell_type": "code",
   "execution_count": 8,
   "metadata": {},
   "outputs": [],
   "source": [
    "marketcheck_mapper = {\n",
    "    'id': 'ID',\n",
    "    'price': 'Price',\n",
    "    'miles': 'Miles',\n",
    "    'base_ext_color': 'Color',\n",
    "    'inventory_type': 'Stat',\n",
    "    'first_seen_at_source_date': 'Adv_date',\n",
    "    'first_seen_at_source': 'Adv_ID',\n",
    "    'build': 'Build'\n",
    "}\n",
    "\n",
    "marketcheck_df = marketcheck_df[marketcheck_mapper.keys()]\n",
    "marketcheck_df.rename(columns=marketcheck_mapper, inplace=True)"
   ]
  },
  {
   "cell_type": "code",
   "execution_count": 9,
   "metadata": {},
   "outputs": [],
   "source": [
    "marketcheck_df['Reg_year'] = marketcheck_df['Build'].apply(lambda x: x['year'])\n",
    "marketcheck_df['Maker'] = marketcheck_df['Build'].apply(lambda x: x['make'])\n",
    "marketcheck_df['Model'] = marketcheck_df['Build'].apply(lambda x: x['model'])\n",
    "marketcheck_df['Bodytype'] = marketcheck_df['Build'].apply(lambda x: x['body_type'])\n",
    "marketcheck_df['Fuel_type'] = marketcheck_df['Build'].apply(lambda x: x['fuel_type'])\n",
    "marketcheck_df['Engine_size'] = marketcheck_df['Build'].apply(lambda x: x['engine_size'] if 'engine_size' in x.keys() else None)\n",
    "marketcheck_df['Doors'] = marketcheck_df['Build'].apply(lambda x: x['doors'])\n",
    "marketcheck_df['Height'] = marketcheck_df['Build'].apply(lambda x: x['overall_height'])\n",
    "marketcheck_df['Length'] = marketcheck_df['Build'].apply(lambda x: x['overall_length'])\n",
    "marketcheck_df['Width'] = marketcheck_df['Build'].apply(lambda x: x['overall_width'])\n",
    "marketcheck_df['Seatings'] = marketcheck_df['Build'].apply(lambda x: x['std_seating'])\n",
    "marketcheck_df['Gearbox'] = marketcheck_df['Build'].apply(lambda x: x['transmission'])\n",
    "marketcheck_df['Highway_mpg'] = marketcheck_df['Build'].apply(lambda x: x['highway_mpg'] if 'highway_mpg' in x.keys() else None)\n",
    "marketcheck_df['City_mpg'] = marketcheck_df['Build'].apply(lambda x: x['city_mpg'] if 'city_mpg' in x.keys() else None)\n",
    "\n",
    "# Drop Build column\n",
    "marketcheck_df.drop(columns=['Build'], inplace=True)"
   ]
  },
  {
   "cell_type": "code",
   "execution_count": 10,
   "metadata": {},
   "outputs": [],
   "source": [
    "# Transform datetime type\n",
    "marketcheck_df['Adv_date'] = pd.to_datetime(marketcheck_df['Adv_date'])\n",
    "\n",
    "# Create hierarchy\n",
    "marketcheck_df['Adv_year'] = marketcheck_df['Adv_date'].dt.year\n",
    "marketcheck_df['Adv_month'] = marketcheck_df['Adv_date'].dt.month\n",
    "marketcheck_df.drop(columns=['Adv_date'], inplace=True)"
   ]
  },
  {
   "cell_type": "code",
   "execution_count": 11,
   "metadata": {},
   "outputs": [],
   "source": [
    "# Calculate average mpg\n",
    "marketcheck_df['Average_mpg'] = (marketcheck_df['Highway_mpg'] + marketcheck_df['City_mpg']) / 2\n",
    "\n",
    "# Drop highway and city mpg\n",
    "marketcheck_df.drop(columns=['Highway_mpg', 'City_mpg'], inplace=True)"
   ]
  },
  {
   "cell_type": "code",
   "execution_count": 12,
   "metadata": {},
   "outputs": [
    {
     "data": {
      "text/plain": [
       "[]"
      ]
     },
     "execution_count": 12,
     "metadata": {},
     "output_type": "execute_result"
    }
   ],
   "source": [
    "[print(x) for x in marketcheck_df.columns if x not in us_cars_df.columns]"
   ]
  },
  {
   "cell_type": "markdown",
   "metadata": {},
   "source": [
    "## Concatenate and insert the data into SQL Server"
   ]
  },
  {
   "cell_type": "code",
   "execution_count": 13,
   "metadata": {},
   "outputs": [],
   "source": [
    "final_df = pd.concat([us_cars_df, marketcheck_df], ignore_index=True)"
   ]
  },
  {
   "cell_type": "code",
   "execution_count": 14,
   "metadata": {},
   "outputs": [],
   "source": [
    "from sqlalchemy import create_engine, MetaData, text, Table, Column, Integer, Float, String, VARCHAR\n",
    "\n",
    "def get_sql_server_connection():\n",
    "    server_name = 'LIKE-YOUCODE-DA\\SQLEXPRESS'\n",
    "    database_name = 'us_car_sales_staging'\n",
    "    trusted_connection = 'yes'\n",
    "\n",
    "    if trusted_connection == 'no':\n",
    "        connection_url = f'mssql+pyodbc://{server_name}/{database_name}?driver=SQL+Server'\n",
    "    else:\n",
    "        username = 'sa'\n",
    "        password = 'YourPassword123'\n",
    "        connection_url = f\"mssql+pyodbc://{username}:{password}@{server_name}/{database_name}?driver=ODBC+Driver+17+for+SQL+Server\"\n",
    "\n",
    "    engine = create_engine(connection_url)\n",
    "    return engine"
   ]
  },
  {
   "cell_type": "code",
   "execution_count": 15,
   "metadata": {},
   "outputs": [
    {
     "name": "stdout",
     "output_type": "stream",
     "text": [
      "Connection to the staging area created successfully.\n",
      "us_car_sales_table created successfully\n"
     ]
    }
   ],
   "source": [
    "\n",
    "try:\n",
    "    engine = get_sql_server_connection()\n",
    "    print(f\"Connection to the staging area created successfully.\")\n",
    "\n",
    "    # Inititialize the metadata object\n",
    "    meta = MetaData()\n",
    "\n",
    "\n",
    "    us_cars_table = Table(\n",
    "        'us_cars_sales_table', meta,\n",
    "        Column('id', String(125), primary_key=True),\n",
    "        Column('maker', String(125)),\n",
    "        Column('model', String(125)),\n",
    "        Column('adv_id', String(125)),\n",
    "        Column('adv_year', Integer),\n",
    "        Column('adv_month', Integer),\n",
    "        Column('color', String(125)),\n",
    "        Column('reg_year', Integer),\n",
    "        Column('bodytype', String(125)),\n",
    "        Column('miles', String(125)),\n",
    "        Column('engine_size', String(125)),\n",
    "        Column('gearbox', String(125)),\n",
    "        Column('fuel_type', String(125)),\n",
    "        Column('price', Float),\n",
    "        Column('height', String(125)),\n",
    "        Column('width', String(125)),\n",
    "        Column('lenght', String(125)),\n",
    "        Column('average_mpg', String(125)),\n",
    "        Column('seatings', String(125)),\n",
    "        Column('doors', String(125)),\n",
    "        Column('stats', String(125)),\n",
    "        schema='dbo'\n",
    "    )\n",
    "\n",
    "    try:\n",
    "        meta.create_all(engine)\n",
    "        print('us_car_sales_table created successfully')\n",
    "    except Exception as e:\n",
    "        print(f'Failed to create the table. {str(e)}')\n",
    "except Exception as ex:\n",
    "    print(\"Connection could not be made due to the following error: \\n\", ex)"
   ]
  },
  {
   "cell_type": "code",
   "execution_count": 33,
   "metadata": {},
   "outputs": [],
   "source": [
    "# Table name\n",
    "table_name = 'us_cars_sales_table'\n",
    "\n",
    "# Insert the DataFrame into the database\n",
    "final_df.to_sql(table_name, con=engine, index=False, if_exists='replace')\n",
    "\n",
    "# Dispose of the engine \n",
    "engine.dispose()"
   ]
  }
 ],
 "metadata": {
  "kernelspec": {
   "display_name": "Python 3",
   "language": "python",
   "name": "python3"
  },
  "language_info": {
   "codemirror_mode": {
    "name": "ipython",
    "version": 3
   },
   "file_extension": ".py",
   "mimetype": "text/x-python",
   "name": "python",
   "nbconvert_exporter": "python",
   "pygments_lexer": "ipython3",
   "version": "3.11.3"
  }
 },
 "nbformat": 4,
 "nbformat_minor": 2
}
